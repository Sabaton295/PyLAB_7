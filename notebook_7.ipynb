{
 "cells": [
  {
   "metadata": {},
   "cell_type": "markdown",
   "source": "## 1. Введение в асинхронное программирование на Python",
   "id": "645807b83215a375"
  },
  {
   "metadata": {},
   "cell_type": "markdown",
   "source": [
    "### Понятие асинхронности\n",
    "\n",
    "**Асинхронное программирование** – это способ организации выполнения задач, при котором одна задача может начать выполняться, не дожидаясь завершения другой. Вместо того, чтобы последовательно выполнять каждую операцию, программа может переключаться между задачами. Это позволяет более эффективно использовать ресурсы, особенно при работе с операциями ввода-вывода, такими как сетевые запросы, чтение файлов или взаимодействие с базами данных."
   ],
   "id": "66368cace85e47a8"
  },
  {
   "metadata": {},
   "cell_type": "markdown",
   "source": [
    "### Понятие I/O (Input / Output) операций\n",
    "\n",
    "I/O операции связаны с **вводом и выводом данных**, например, чтение и запись файлов, взаимодействие с сетью, работа с базами данных и т.д.\n",
    "\n",
    "Во время I/O операций **программа ожидает** завершения операции ввода-вывода, что может занять значительное время по сравнению с выполнением инструкций процессора.\n",
    "\n",
    "I/O операции часто **блокируют выполнение программы**, пока они не будут завершены, что может привести к **неэффективному использованию ресурсов** процессора.\n",
    "\n",
    "Примеры I/O операций: чтение файла, запись в базу данных, отправка HTTP-запроса, ожидание ввода пользователя и т.д."
   ],
   "id": "b43dcef9b8fd986"
  },
  {
   "metadata": {},
   "cell_type": "markdown",
   "source": [
    "### Понятие CPU-bound операций\n",
    "\n",
    "Операции, связанные с процессором (CPU bound), представляют собой действия, которые требуют интенсивного использования процессора для выполнения вычислений и обработки данных.\n",
    "\n",
    "Примеры CPU bound операций: сложные математические вычисления, обработка больших массивов данных, алгоритмы сжатия данных, рендеринг графики и т.д."
   ],
   "id": "4da7938cb3607330"
  },
  {
   "metadata": {},
   "cell_type": "markdown",
   "source": [
    "### Разница между I/O и CPU bound\n",
    "\n",
    "Для I/O операций можно использовать **асинхронное программирование**, чтобы избежать блокировки выполнения программы и эффективно использовать ресурсы процессора.\n",
    "\n",
    "Для CPU bound операций можно рассмотреть возможность **распараллеливания вычислений**, чтобы использовать несколько ядер процессора и ускорить обработку данных."
   ],
   "id": "85b9214829262a3e"
  },
  {
   "metadata": {},
   "cell_type": "markdown",
   "source": [
    "### Псевдопараллелизм\n",
    "\n",
    "В любой многозадачной системе центральный процессор (ЦП) быстро переключается между процессами, предоставляя каждому из них десятки или сотни миллисекунд.\n",
    "\n",
    "При этом хотя в каждый конкретный момент времени центральный процессор работает только с одним процессом, в течение 1 секунды он может успеть поработать с несколькими из них, создавая иллюзию параллельной работы.\n"
   ],
   "id": "a2bf070330f2f06c"
  },
  {
   "metadata": {},
   "cell_type": "markdown",
   "source": "![pp.png](./images/pp.png)",
   "id": "93c3f85f4e6d3cab"
  },
  {
   "metadata": {},
   "cell_type": "markdown",
   "source": [
    "### Global Interpreter Lock (GIL)\n",
    "\n",
    "GIL – это механизм блокировки, когда интерпретатор Python запускает в работу только один поток за раз.\n",
    " \n",
    "Только один поток может исполняться в байт-коде Python единовременно. GIL следит за тем, чтобы несколько потоков не выполнялись параллельно.\n",
    "\n",
    "Краткие сведения о GIL:\n",
    "\n",
    "1. Одновременно может выполняться один поток.\n",
    "2. Интерпретатор Python переключается между потоками для достижения конкурентности.\n",
    "3. GIL делает однопоточные программы быстрыми.\n",
    "4. Операциям ввода/вывода GIL обычно не мешает.\n",
    "5. GIL позволяет легко интегрировать непотокобезопасные библиотеки на C, благодаря GIL у нас есть много высокопроизводительных расширений/модулей, написанных на C.\n",
    "6. Для CPU зависимых задач интерпретатор делает проверку каждые N тиков и переключает потоки. Таким образом один поток не блокирует другие.\n"
   ],
   "id": "28d2da88a41fb79"
  },
  {
   "metadata": {},
   "cell_type": "markdown",
   "source": [
    "### Преимущества асинхронного подхода\n",
    "\n",
    "Асинхронное программирование особенно полезно для задач, связанных с I/O операциями.\n",
    "\n",
    "##### Масштабируемость\n",
    "\n",
    "Асинхронный код способен обрабатывать значительно большее количество одновременных соединений и задач по сравнению с синхронным кодом, что особенно актуально для веб-приложений.\n",
    "\n",
    "##### Эффективность использования ресурсов\n",
    "\n",
    "Вместо того чтобы ожидать завершения выполнения одной задачи, можно приступить к выполнению другой, что позволяет более рационально использовать ресурсы системы.\n",
    "\n",
    "##### Отзывчивость\n",
    "\n",
    "Приложения становятся более отзывчивыми, так как они не блокируются на выполнении одной задачи."
   ],
   "id": "de7f8485390e015a"
  },
  {
   "metadata": {},
   "cell_type": "markdown",
   "source": [
    "### Область применения асинхронного программирования\n",
    "\n",
    "1. Веб-разработка\n",
    "    - Обработка HTTP-запросов\n",
    "    - Загрузка файлов\n",
    "    - Взаимодействие с внешними API\n",
    "2. Мобильная разработка\n",
    "    - Сетевые запросы\n",
    "    - Взаимодействие с внешними API\n",
    "    - Обработка пользовательского ввода\n",
    "3. Серверные приложения\n",
    "    - Обработка большого количества запросов\n",
    "    - Взаимодействие с базами данных, внешними сервисами\n",
    "    - Выполнение фоновых задач\n",
    "    - Обработка очередей сообщений\n",
    "4. Разработка игр\n",
    "    - Загрузка ресурсов в фоновом режиме\n",
    "    - Обработка сетевых запросов\n",
    "    - Генерация контента\n",
    "\n",
    "а также другие сферы применения."
   ],
   "id": "2b64dc7739fbb673"
  },
  {
   "metadata": {},
   "cell_type": "markdown",
   "source": "## 2. Основные концепции",
   "id": "3a48c80eadd176da"
  },
  {
   "metadata": {},
   "cell_type": "markdown",
   "source": [
    "### Coroutines (корутины)\n",
    "\n",
    "Корутины – это асинхронные функции, определяемые с помощью ключевого слова `async def`. \n",
    "\n",
    "Они позволяют приостанавливать своё выполнение с помощью ключевого слова `await`, что позволяет другим корутинам выполняться в это время."
   ],
   "id": "c5264b07124a820d"
  },
  {
   "metadata": {},
   "cell_type": "code",
   "source": [
    "async def example_coroutine():\n",
    "    ..."
   ],
   "id": "c1586a028f98d415",
   "outputs": [],
   "execution_count": null
  },
  {
   "metadata": {},
   "cell_type": "markdown",
   "source": [
    "#### Разница между корутинами и обычными функциями\n",
    "\n",
    "#### Выполнение\n",
    "\n",
    "##### Обычная функция\n",
    "\n",
    "Когда вызывается обычная функция, она выполняется от начала до конца без прерываний. Управление возвращается вызывающему коду только после завершения функции.\n",
    "\n",
    "##### Корутины\n",
    "\n",
    "Корутины могут приостанавливать свое выполнение в определенных точках с помощью оператора `await` или `yield`. \n",
    "\n",
    "Управление возвращается вызывающему коду, но состояние корутины сохраняется. \n",
    "\n",
    "Позже выполнение корутины может быть возобновлено с того места, где оно было приостановлено.\n",
    "\n",
    "\n",
    "\n"
   ],
   "id": "a199eec913c034a7"
  },
  {
   "metadata": {},
   "cell_type": "markdown",
   "source": [
    "#### Состояние\n",
    "\n",
    "##### Обычная функция\n",
    "\n",
    "Обычные функции не сохраняют свое состояние между вызовами. Каждый вызов функции начинается с нуля.\n",
    "\n",
    "##### Корутины\n",
    "\n",
    "Корутины сохраняют свое состояние между приостановкой и возобновлением. \n",
    "\n",
    "Это означает, что локальные переменные и точка выполнения сохраняются, позволяя корутине продолжить выполнение с того места, где она была приостановлена.\n"
   ],
   "id": "33d7074197b77a02"
  },
  {
   "metadata": {},
   "cell_type": "markdown",
   "source": [
    "#### Использование\n",
    "\n",
    "##### Обычная функция\n",
    "\n",
    "Обычно применяются для выполнения определенной задачи и возврата результата. Они следуют последовательному потоку выполнения.\n",
    "\n",
    "##### Корутины\n",
    "\n",
    "Часто применяются для реализации асинхронного и параллельного выполнения. \n",
    "\n",
    "Они позволяют приостанавливать и возобновлять выполнение, что полезно при работе с длительными операциями ввода-вывода или при координации нескольких задач."
   ],
   "id": "c06db4e546012605"
  },
  {
   "metadata": {},
   "cell_type": "markdown",
   "source": [
    "#### Разница между корутинами и генераторами\n",
    "\n",
    "#### Назначение\n",
    "\n",
    "##### Корутины\n",
    "\n",
    "Предназначены для написания асинхронного кода и обработки ввода-вывода без блокировки.\n",
    "\n",
    "##### Генераторы\n",
    "\n",
    "Предназначены для последовательного генерации значений и используются в итерациях.\n"
   ],
   "id": "17d427e04ab56aa0"
  },
  {
   "metadata": {},
   "cell_type": "markdown",
   "source": [
    "#### Механизм работы\n",
    "\n",
    "##### Корутины\n",
    "\n",
    "Управляются циклом событий. Их выполнение планируется и координируется этим циклом.\n",
    "\n",
    "##### Генераторы\n",
    "\n",
    "Управляются итератором и вызываются с помощью функции `next()` или в конструкции `for`."
   ],
   "id": "480dee2890d1f101"
  },
  {
   "metadata": {},
   "cell_type": "markdown",
   "source": [
    "#### Взаимодействие с внешним кодом\n",
    "\n",
    "##### Корутины\n",
    "\n",
    "Обмениваются данными и результатами друг с другом через `await`, позволяя создавать сложные асинхронные цепочки вызовов.\n",
    "\n",
    "##### Генераторы\n",
    "\n",
    "Могут принимать данные извне через метод `send()`, но это используется реже."
   ],
   "id": "29242ca8c8862853"
  },
  {
   "metadata": {},
   "cell_type": "markdown",
   "source": [
    "#### Итого\n",
    "\n",
    "**Генераторы** — для ленивого генерации последовательностей данных.\n",
    "\n",
    "**Корутины** — для написания асинхронного, неблокирующего кода, особенно при работе с вводом-выводом и сетевыми операциями."
   ],
   "id": "e2fe33bb7705b06c"
  },
  {
   "metadata": {},
   "cell_type": "markdown",
   "source": [
    "### Event Loop (Цикл событий)\n",
    "\n",
    "Event Loop в Python представляет собой мощный инструмент, который позволяет эффективно управлять множеством асинхронных задач одновременно. Это делает его незаменимым для работы с сетевыми запросами, операциями ввода-вывода и другими асинхронными задачами."
   ],
   "id": "142a2dd6d0981883"
  },
  {
   "metadata": {},
   "cell_type": "markdown",
   "source": [
    "### Tasks (Задачи)\n",
    "\n",
    "Объекты, представляющие собой корутины, которые были запущены в контексте цикла событий. \n",
    "\n",
    "Они предоставляют возможность контролировать выполнение корутин, в том числе отменять их."
   ],
   "id": "49d86e681ae8ce0e"
  },
  {
   "metadata": {},
   "cell_type": "markdown",
   "source": [
    "#### Futures (фьючерсы)\n",
    "\n",
    "Объекты Future представляют собой результаты асинхронных операций, которые будут доступны в будущем. Они используются для ожидания завершения асинхронной задачи."
   ],
   "id": "6eb67401cda71d18"
  },
  {
   "metadata": {},
   "cell_type": "markdown",
   "source": "## 3. Ключевые слова и синтаксис",
   "id": "4ca4545dcee4b168"
  },
  {
   "metadata": {},
   "cell_type": "markdown",
   "source": [
    "### async/await\n",
    "\n",
    "Асинхронные функции (`async def`): \n",
    "\n",
    "Функции, которые могут быть приостановлены в любой момент, чтобы выполнить другую задачу. \n",
    "\n",
    "Они определяются с помощью ключевого слова `async`."
   ],
   "id": "62976dfaae5b1db3"
  },
  {
   "metadata": {},
   "cell_type": "markdown",
   "source": [
    "### await выражения\n",
    "\n",
    "Ключевое слово `await`: Используется внутри асинхронных функций для приостановки выполнения текущей функции до тех пор, пока не будет завершена ожидаемая операция."
   ],
   "id": "4e1f1ac84c437a2b"
  },
  {
   "metadata": {},
   "cell_type": "markdown",
   "source": "## 4. Практические примеры",
   "id": "72283e4e38b68d35"
  },
  {
   "metadata": {},
   "cell_type": "markdown",
   "source": "### Асинхронные HTTP-запросы",
   "id": "656c69d4320e4e14"
  },
  {
   "metadata": {},
   "cell_type": "markdown",
   "source": [
    "#### Бибилиотека aiohttp\n",
    "\n",
    "Установка aiohttp\n",
    "\n",
    "```bash\n",
    "pip install aiohttp\n",
    "```"
   ],
   "id": "c2053f41df5e2e5e"
  },
  {
   "metadata": {},
   "cell_type": "code",
   "source": [
    "import aiohttp\n",
    "import asyncio\n",
    "\n",
    "\n",
    "async def aiohttp_fetch(session, url):\n",
    "    async with session.get(url) as response:\n",
    "        return await response.text()\n",
    "\n",
    "\n",
    "async def main():\n",
    "    async with aiohttp.ClientSession() as session:\n",
    "        html = await aiohttp_fetch(session, 'https://miet.ru')\n",
    "        print(html)"
   ],
   "id": "1e6d796fa2de9ee6",
   "outputs": [],
   "execution_count": null
  },
  {
   "metadata": {},
   "cell_type": "markdown",
   "source": "Вызов `main()` из Jupyter Notebook:",
   "id": "a6650d10b8de6592"
  },
  {
   "metadata": {},
   "cell_type": "code",
   "source": "await main()",
   "id": "9ab1fc602e1281d1",
   "outputs": [],
   "execution_count": null
  },
  {
   "metadata": {},
   "cell_type": "markdown",
   "source": "Вызов `main()` из модуля `.py`:",
   "id": "91b325c002c3f68b"
  },
  {
   "metadata": {},
   "cell_type": "code",
   "source": "asyncio.run(main())",
   "id": "d5806dcd0de091e5",
   "outputs": [],
   "execution_count": null
  },
  {
   "metadata": {},
   "cell_type": "markdown",
   "source": [
    "#### Библиотека httpx\n",
    "\n",
    "Установка httpx\n",
    "\n",
    "```bash\n",
    "pip install httpx\n",
    "```"
   ],
   "id": "1cd4a57d021c1315"
  },
  {
   "metadata": {},
   "cell_type": "code",
   "source": [
    "import httpx\n",
    "\n",
    "\n",
    "async def httpx_fetch(url: str):\n",
    "    async with httpx.AsyncClient() as client:\n",
    "        response = await client.get(url)\n",
    "        return response.text\n",
    "\n",
    "\n",
    "async def main():\n",
    "    urls = ['https://miet.ru', 'https://orioks.miet.ru']\n",
    "    tasks = [httpx_fetch(url) for url in urls]\n",
    "    results = await asyncio.gather(*tasks)\n",
    "    for result in results:\n",
    "        print(result)"
   ],
   "id": "2c5ae9921f5dcf2c",
   "outputs": [],
   "execution_count": null
  },
  {
   "metadata": {},
   "cell_type": "markdown",
   "source": "### Работа с файлами",
   "id": "d73c2a21b1fe1a7f"
  },
  {
   "metadata": {},
   "cell_type": "code",
   "source": [
    "import aiofile\n",
    "\n",
    "\n",
    "async def read_file(file_path: str):\n",
    "    async with aiofile.async_open(file_path, mode='r', encoding='utf-8') as file:\n",
    "        content = await file.read()\n",
    "        print(f\"Содержимое файла {file_path}:\\n{content}\")\n",
    "\n",
    "\n",
    "async def write_file(file_path: str, content: str):\n",
    "    async with aiofile.async_open(file_path, mode='w', encoding='utf-8') as file:\n",
    "        await file.write(content)\n",
    "        print(f\"Содержимое записано в файл {file_path}\")\n",
    "\n",
    "\n",
    "async def main():\n",
    "    file_path = 'example.txt'\n",
    "    content_to_write = \"Пример асинхронной записи в файл.\"\n",
    "\n",
    "    # Асинхронная запись в файл\n",
    "    await write_file(file_path, content_to_write)\n",
    "\n",
    "    # Асинхронное чтение из файла\n",
    "    await read_file(file_path)"
   ],
   "id": "a92203ac75cef3ea",
   "outputs": [],
   "execution_count": null
  },
  {
   "metadata": {},
   "cell_type": "markdown",
   "source": "### Обработка множественных задач",
   "id": "8f7b75f785937036"
  },
  {
   "metadata": {},
   "cell_type": "code",
   "source": [
    "import asyncio\n",
    "\n",
    "\n",
    "async def task1():\n",
    "    print(\"Запуск task1\")\n",
    "    await asyncio.sleep(3)\n",
    "    print(\"Завершение task1\")\n",
    "\n",
    "\n",
    "async def task2():\n",
    "    print(\"Запуск task2\")\n",
    "    await asyncio.sleep(1)\n",
    "    print(\"Завершение task2\")\n",
    "\n",
    "\n",
    "async def task3():\n",
    "    print(\"Запуск task3\")\n",
    "    await asyncio.sleep(2)\n",
    "    print(\"Завершение task3\")\n",
    "\n",
    "\n",
    "async def main():\n",
    "    await asyncio.gather(task1(), task2(), task3())"
   ],
   "id": "554a816e0acf8b4b",
   "outputs": [],
   "execution_count": null
  },
  {
   "metadata": {},
   "cell_type": "markdown",
   "source": [
    "`asyncio.gather` – эта функция запускает все переданные ей асинхронные задачи параллельно и ждет их завершения. \n",
    "\n",
    "Она возвращает список результатов в том же порядке, в котором задачи были переданы."
   ],
   "id": "6be7a1b076de15ca"
  },
  {
   "metadata": {},
   "cell_type": "markdown",
   "source": "### Асинхронные генераторы",
   "id": "9b528b36deda0f73"
  },
  {
   "metadata": {},
   "cell_type": "code",
   "source": [
    "import asyncio\n",
    "\n",
    "\n",
    "async def async_generator():\n",
    "    for i in range(5):\n",
    "        await asyncio.sleep(1)  # Имитация асинхронной задержки\n",
    "        yield i\n",
    "        print(f\"Отправлено {i}\")\n",
    "\n",
    "\n",
    "async def main():\n",
    "    async for number in async_generator():\n",
    "        print(f\"Получено {number}\")"
   ],
   "id": "7d9c6aa43374ad87",
   "outputs": [],
   "execution_count": null
  },
  {
   "metadata": {},
   "cell_type": "markdown",
   "source": "Асинхронные генераторы полезны в ситуациях, когда данные поступают постепенно, и требуется обрабатывать их по мере поступления, не блокируя выполнение других задач в приложении.",
   "id": "c5272636937c32c2"
  },
  {
   "metadata": {},
   "cell_type": "markdown",
   "source": "## 5. Продвинутые концепции",
   "id": "68f77681a694cc6"
  },
  {
   "metadata": {},
   "cell_type": "markdown",
   "source": [
    "### Асинхронные контекстные менеджеры\n",
    "\n",
    "\n",
    "Для работы с ресурсами, которые требуют открытия и закрытия, используются асинхронные контекстные менеджеры (`async with`). "
   ],
   "id": "e058473f6db6f65e"
  },
  {
   "metadata": {},
   "cell_type": "code",
   "source": [
    "import aiofile  # для асинхронного доступа к файлам.\n",
    "\n",
    "...\n",
    "\n",
    "async def read_file_first(file_path):\n",
    "    async with aiofile.async_open(file_path, 'r') as file:\n",
    "        text = await file.read()\n",
    "        print(text)\n",
    "    \n",
    "...\n"
   ],
   "id": "3edb9325a4186ec2",
   "outputs": [],
   "execution_count": null
  },
  {
   "metadata": {},
   "cell_type": "markdown",
   "source": "### Асинхронные итераторы",
   "id": "1318fa3dddd8a7fa"
  },
  {
   "metadata": {},
   "cell_type": "markdown",
   "source": "Асинхронные генераторы (`async for`) позволяют итерировать по асинхронным источникам данных.",
   "id": "993eaf89c704d1f2"
  },
  {
   "metadata": {},
   "cell_type": "code",
   "source": [
    "import aiofile  # для асинхронного доступа к файлам.\n",
    "\n",
    "...\n",
    "\n",
    "async def read_file_second(file_path):\n",
    "    async with aiofile.async_open(file_path, 'r') as file:\n",
    "        async for line in file:\n",
    "            print(line)\n",
    "    \n",
    "...\n"
   ],
   "id": "d4002d3db119d479",
   "outputs": [],
   "execution_count": null
  },
  {
   "metadata": {},
   "cell_type": "markdown",
   "source": [
    "### Создание асинхронной задачи\n",
    "\n",
    "Асинхронные задачи в asyncio создаются с помощью функции `asyncio.create_task()`. \n",
    "\n",
    "Эта функция запускает корутину в фоновом режиме и возвращает объект `Task`, который можно использовать для управления задачей."
   ],
   "id": "78a195d18080949a"
  },
  {
   "metadata": {},
   "cell_type": "code",
   "source": [
    "import asyncio\n",
    "\n",
    "\n",
    "async def my_coroutine_first():\n",
    "    print(\"Задача началась\")\n",
    "    await asyncio.sleep(2)\n",
    "\n",
    "\n",
    "async def main():\n",
    "    task = asyncio.create_task(my_coroutine_first())\n",
    "    await task  # Ожидание завершения задачи\n",
    "    print(\"Задача завершена\")\n"
   ],
   "id": "278f05932d29989",
   "outputs": [],
   "execution_count": null
  },
  {
   "metadata": {},
   "cell_type": "markdown",
   "source": "Вызов `main()` из Jupyter Notebook:",
   "id": "bb81baa05439724e"
  },
  {
   "metadata": {},
   "cell_type": "code",
   "source": "await main()",
   "id": "e5f4274babab4d32",
   "outputs": [],
   "execution_count": null
  },
  {
   "metadata": {},
   "cell_type": "markdown",
   "source": "Вызов `main()` из модуля `.py`:",
   "id": "594459f0246071a6"
  },
  {
   "metadata": {},
   "cell_type": "code",
   "source": "asyncio.run(main())",
   "id": "54d433c0be6067f8",
   "outputs": [],
   "execution_count": null
  },
  {
   "metadata": {},
   "cell_type": "markdown",
   "source": [
    "#### Отмена задачи\n",
    "\n",
    "Для отмены задачи можно использовать метод `cancel()` объекта `Task`. \n",
    "\n",
    "Если задача была отменена, она вызовет исключение `asyncio.CancelledError` внутри корутины.\n",
    "\n",
    "Метод `cancel()` возвращает `True`, если задача была отменена, и `False`, если задача уже завершена. Если задача уже завершена, отменить её нельзя.\n",
    "\n",
    "Данный метод не прерывает задачу мгновенно, а лишь запрашивает отмену, которую корутина может обработать."
   ],
   "id": "7d8f0b08887bff45"
  },
  {
   "metadata": {},
   "cell_type": "code",
   "source": [
    "import asyncio\n",
    "\n",
    "\n",
    "async def my_coroutine_second():\n",
    "    print(\"Задача началась\")\n",
    "    await asyncio.sleep(2)\n",
    "\n",
    "\n",
    "async def main():\n",
    "    task = asyncio.create_task(my_coroutine_second())\n",
    "    task.cancel()  # Отменяем задачу\n",
    "\n",
    "    try:\n",
    "        await task\n",
    "    except asyncio.CancelledError:\n",
    "        print(\"Задача была отменена\")"
   ],
   "id": "efdb8d9f111ab821",
   "outputs": [],
   "execution_count": null
  },
  {
   "metadata": {},
   "cell_type": "markdown",
   "source": "Вызов `main()` из Jupyter Notebook:",
   "id": "c48163dc9afdad1c"
  },
  {
   "metadata": {},
   "cell_type": "code",
   "source": "await main()",
   "id": "f5389601b307d6cb",
   "outputs": [],
   "execution_count": null
  },
  {
   "metadata": {},
   "cell_type": "markdown",
   "source": "Вызов `main()` из модуля `.py`:",
   "id": "a3268f787b51a6f3"
  },
  {
   "metadata": {},
   "cell_type": "code",
   "source": "asyncio.run(main())",
   "id": "b84948ddf479eee7",
   "outputs": [],
   "execution_count": null
  },
  {
   "metadata": {},
   "cell_type": "markdown",
   "source": "### Тайм-аут",
   "id": "1a88bfe31f683302"
  },
  {
   "metadata": {},
   "cell_type": "markdown",
   "source": [
    "Функция `asyncio.wait_for` позволяет задать таймаут для выполнения асинхронной функции.\n",
    "\n",
    "Если задача не завершается в указанный срок, возникает исключение `asyncio.TimeoutError`."
   ],
   "id": "2c67743c47e2b522"
  },
  {
   "metadata": {},
   "cell_type": "code",
   "source": [
    "import asyncio\n",
    "\n",
    "\n",
    "# Определение корутины для задачи\n",
    "async def task_coroutine():\n",
    "    print('Выполнение задачи')\n",
    "    await asyncio.sleep(1)  # Блокировка на некоторое время\n",
    "    print('Задача успешно завершилась')\n",
    "\n",
    "\n",
    "# Главная корутина\n",
    "async def main():\n",
    "    print('Запуск главной корутины')\n",
    "    task = asyncio.create_task(task_coroutine())\n",
    "    try:\n",
    "        await asyncio.wait_for(task, timeout=0.5)\n",
    "    except asyncio.TimeoutError:\n",
    "        print('Вышло время выполнения задачи')"
   ],
   "id": "86bfb267475f4681",
   "outputs": [],
   "execution_count": null
  },
  {
   "metadata": {},
   "cell_type": "markdown",
   "source": "Таймаут с использованием `asyncio.create_task` и `asyncio.wait`",
   "id": "f2a7deef4dd0155e"
  },
  {
   "metadata": {},
   "cell_type": "code",
   "source": [
    "import asyncio\n",
    "\n",
    "\n",
    "async def task_coroutine_second(task_number: int, seconds: int):\n",
    "    print(f'Выполнение задачи №{task_number}')\n",
    "    await asyncio.sleep(seconds)  # Блокировка на некоторое время\n",
    "    print(f'Задача №{task_number} успешно завершилась')\n",
    "\n",
    "    return f\"RESULT_VALUE_{task_number}\"\n",
    "\n",
    "\n",
    "async def main():\n",
    "    tasks = []\n",
    "    for i in range(1, 6):\n",
    "        task = asyncio.create_task(task_coroutine_second(i, i))\n",
    "        task.set_name(f'Task №{i}')  # Устанавливаем имя для задачи\n",
    "        tasks.append(task)\n",
    "\n",
    "    done, pending = await asyncio.wait(tasks, timeout=3)\n",
    "\n",
    "    # Успешно завершились за timeout = 3:\n",
    "    for task in done:\n",
    "        print(f\"{task.get_name()}: {task.result()}\")\n",
    "\n",
    "    # Не успели завершиться за таймаут = 3\n",
    "    for task in pending:\n",
    "        print(f\"{task.get_name()} - не успела завершиться\")"
   ],
   "id": "1d08e9a49be16caa",
   "outputs": [],
   "execution_count": null
  },
  {
   "metadata": {},
   "cell_type": "markdown",
   "source": [
    "Параметр `return_when` в функции `asyncio.wait` определяет, когда функция должна вернуть результат. \n",
    "\n",
    "Вот основные значения этого параметра и их описания:\n",
    "\n",
    "**FIRST_COMPLETED**\n",
    "\n",
    "Возвращает, как только любая из задач завершится (успешно или с ошибкой)."
   ],
   "id": "5274ea6dbbb947ac"
  },
  {
   "metadata": {},
   "cell_type": "markdown",
   "source": [
    "**FIRST_EXCEPTION**\n",
    "\n",
    "Возвращает, как только любая из задач завершится с исключением. Если ни одна задача не завершилась с ошибкой, ожидает завершения всех задач.\n"
   ],
   "id": "cb56e3e89d25c281"
  },
  {
   "metadata": {},
   "cell_type": "markdown",
   "source": [
    "**ALL_COMPLETED**\n",
    "\n",
    "Ожидает завершения всех задач."
   ],
   "id": "4c47cd026a230c25"
  },
  {
   "metadata": {},
   "cell_type": "code",
   "source": [
    "import asyncio\n",
    "\n",
    "\n",
    "async def task_coroutine_third(task_number: int, seconds: int):\n",
    "    print(f'Выполнение задачи №{task_number}')\n",
    "    await asyncio.sleep(seconds)  # Блокировка на некоторое время\n",
    "    print(f'Задача №{task_number} успешно завершилась')\n",
    "\n",
    "    return f\"RESULT_VALUE_{task_number}\"\n",
    "\n",
    "\n",
    "async def main():\n",
    "    tasks = []\n",
    "    for i in range(1, 6):\n",
    "        task = asyncio.create_task(task_coroutine_third(i, i))\n",
    "        task.set_name(f'Task №{i}')  # Устанавливаем имя для задачи\n",
    "        tasks.append(task)\n",
    "\n",
    "    done, pending = await asyncio.wait(tasks, return_when=asyncio.FIRST_COMPLETED)\n",
    "\n",
    "    for task in done:\n",
    "        print(f\"{task.get_name()}: {task.result()}\")\n",
    "\n",
    "    for task in pending:\n",
    "        print(f\"{task.get_name()} - не успела завершиться\")"
   ],
   "id": "f9b51e33faba5425",
   "outputs": [],
   "execution_count": null
  },
  {
   "metadata": {},
   "cell_type": "markdown",
   "source": "## 6. Обработка ошибок",
   "id": "ae66b679e7e3d1fd"
  },
  {
   "metadata": {},
   "cell_type": "markdown",
   "source": [
    "### Обработка исключений в корутинах\n",
    "\n",
    "Конструкция `try / except` в асинхронном коде Python работает аналогично синхронному коду, но с некоторыми важными нюансами, связанными с особенностями асинхронного выполнения.\n",
    "\n",
    "Если исключение возникает внутри корутины, которая была запущена с помощью `await`, оно \"пробрасывается\" (propagates) в ту точку, где корутина была вызвана с помощью `await`."
   ],
   "id": "f0e3c60de816457d"
  },
  {
   "metadata": {},
   "cell_type": "code",
   "source": [
    "import asyncio\n",
    "\n",
    "\n",
    "async def bad_function():\n",
    "    await asyncio.sleep(1)\n",
    "    raise ValueError(\"Текст ошибки\")\n",
    "\n",
    "\n",
    "async def main():\n",
    "    try:\n",
    "        await bad_function()  # Исключение произойдет здесь\n",
    "    except ValueError as e:\n",
    "        print(f\"Описание ошибки: {e}\")"
   ],
   "id": "8f157e21cff17db8",
   "outputs": [],
   "execution_count": null
  },
  {
   "metadata": {},
   "cell_type": "markdown",
   "source": [
    "Если исключение возникает в задаче (`Task`), оно не \"прокидывается\" автоматически. \n",
    "\n",
    "Задача просто завершается с ошибкой. Чтобы получить это исключение, нужно использовать метод `task.exception()` или `await task`."
   ],
   "id": "adc6bd659cf138f3"
  },
  {
   "metadata": {},
   "cell_type": "code",
   "source": [
    "import asyncio\n",
    "\n",
    "\n",
    "async def bad_function_second():\n",
    "    await asyncio.sleep(1)\n",
    "    raise ValueError(\"Текст ошибки\")\n",
    "\n",
    "\n",
    "async def main():\n",
    "    task = asyncio.create_task(bad_function_second())\n",
    "    await asyncio.sleep(2)  # Даем задаче время выполниться\n",
    "\n",
    "    if task.done() and task.exception():\n",
    "        try:\n",
    "            task.result()  # Это вызовет повторную генерацию исключения\n",
    "        except ValueError as e:\n",
    "            print(f\"Описание ошибки: {e}\")"
   ],
   "id": "7efbe91bf5fdcf50",
   "outputs": [],
   "execution_count": null
  },
  {
   "metadata": {},
   "cell_type": "markdown",
   "source": [
    "### Отладка асинхронного кода\n",
    "\n",
    "Логирование – это один из самых простых и эффективных способов понять, что происходит в вашем асинхронном коде.\n",
    "\n",
    "Это можно сделать с помощью модуля `logging`.\n"
   ],
   "id": "cba86a163172ef77"
  },
  {
   "metadata": {},
   "cell_type": "markdown",
   "source": [
    "#### Рекомендации\n",
    "\n",
    "1. **Разбивайте код на небольшие, тестируемые корутины**. Это упрощает отладку и тестирование отдельных частей кода.\n",
    "2. **Используйте юнит-тестирование**. Пишите тесты для своих корутин, чтобы убедиться, что они работают правильно.\n",
    "3. **Тщательно проектируйте асинхронный код**. Думайте о взаимодействии корутин и конкурентном доступе к ресурсам на этапе проектирования.\n",
    "4. **Используйте IDE и специализированные инструменты**. Некоторые IDE поддерживает отладку асинхронного кода, позволяя ставить точки останова в асинхронных функциях.\n",
    "5. **Используйте параметр debug**. Запуск `asyncio` в режиме debug `asyncio.run(main(), debug=True)`.\n",
    "6. **Не бойтесь экспериментировать**. Пробуйте разные подходы к отладке и находите те, которые работают лучше всего для вашего кода. Отладка асинхронного кода может быть сложной, но с использованием правильных инструментов и методов этот процесс можно сделать более управляемым и эффективным."
   ],
   "id": "362655ea7520594f"
  },
  {
   "metadata": {},
   "cell_type": "markdown",
   "source": "## 7. Паттерны и лучшие практики",
   "id": "7d0c09b24e133db3"
  },
  {
   "metadata": {},
   "cell_type": "markdown",
   "source": [
    "### Избегайте блокирующих операций\n",
    "\n",
    "Проблема: Блокирующие вызовы (например, операции чтения/записи файлов, сетевые запросы) могут блокировать цикл событий и снижать производительность.\n",
    "\n",
    "Решение: Используйте асинхронные версии библиотек ввода-вывода (например, `aiohttp` вместо `requests`).\n",
    "Для выполнения блокирующих операций используйте `asyncio.to_thread()`."
   ],
   "id": "e532356d8fbfc321"
  },
  {
   "metadata": {},
   "cell_type": "code",
   "source": [
    "def blocking_function():\n",
    "    ...\n",
    "\n",
    "result = await asyncio.to_thread(blocking_function)"
   ],
   "id": "a9928b833a78a624",
   "outputs": [],
   "execution_count": null
  },
  {
   "metadata": {},
   "cell_type": "markdown",
   "source": [
    "### Обработка результатов по мере завершения с asyncio.as_completed()\n",
    "\n",
    "`syncio.as_completed()`: Возвращает результаты по мере завершения корутин.\n",
    "\n",
    "Совет: Используйте этот паттерн, когда вам нужно обрабатывать результаты корутин по мере их готовности."
   ],
   "id": "6368e94f5bb5f753"
  },
  {
   "metadata": {},
   "cell_type": "code",
   "source": [
    "async def foo():\n",
    "    return 1\n",
    "\n",
    "async def bar():\n",
    "    return 2\n",
    "\n",
    "async def baz():\n",
    "    return 3\n",
    "\n",
    "for coro in asyncio.as_completed([foo(), bar(), baz()]):\n",
    "    result = await coro\n",
    "    print(result)"
   ],
   "id": "10deb1909d92d1c2",
   "outputs": [],
   "execution_count": null
  },
  {
   "metadata": {},
   "cell_type": "markdown",
   "source": "## 8. Тестирование асинхронного кода",
   "id": "e1b93ae6a49eb49c"
  },
  {
   "metadata": {},
   "cell_type": "markdown",
   "source": [
    "### Инструменты для тестирования\n",
    "\n",
    "Для тестирования асинхронного кода на Python можно использовать следующие инструменты:\n",
    "\n",
    "#### unittest\n",
    "Это встроенный модуль Python для тестирования, который поддерживает тестирование асинхронного кода с помощью класса IsolatedAsyncioTestCase.\n",
    "\n",
    "\n",
    "#### pytest\n",
    "Это популярный фреймворк для тестирования Python, который имеет встроенную поддержку тестирования асинхронного кода с помощью плагина `pytest-asyncio`.\n"
   ],
   "id": "c40225dda30cded7"
  },
  {
   "metadata": {},
   "cell_type": "code",
   "source": "",
   "id": "8cde9fa82a8bd4a1",
   "outputs": [],
   "execution_count": null
  }
 ],
 "metadata": {
  "kernelspec": {
   "display_name": "Python 3",
   "language": "python",
   "name": "python3"
  },
  "language_info": {
   "codemirror_mode": {
    "name": "ipython",
    "version": 2
   },
   "file_extension": ".py",
   "mimetype": "text/x-python",
   "name": "python",
   "nbconvert_exporter": "python",
   "pygments_lexer": "ipython2",
   "version": "2.7.6"
  }
 },
 "nbformat": 4,
 "nbformat_minor": 5
}
